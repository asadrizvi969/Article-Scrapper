{
  "nbformat": 4,
  "nbformat_minor": 0,
  "metadata": {
    "colab": {
      "provenance": []
    },
    "kernelspec": {
      "name": "python3",
      "display_name": "Python 3"
    },
    "language_info": {
      "name": "python"
    }
  },
  "cells": [
    {
      "cell_type": "code",
      "source": [
        "import requests as rq\n",
        "from bs4 import BeautifulSoup\n",
        "from google.colab import files  # Importing files module to download the file\n",
        "\n",
        "def scrape_article(url):\n",
        "    # Getting HTML code from the URL\n",
        "    response = rq.get(url)\n",
        "\n",
        "    # Verifying if the page was fetched properly\n",
        "    if response.status_code == 200:\n",
        "        print(\"The page was fetched successfully\")\n",
        "    else:\n",
        "        print(f\"The page was not fetched properly, status code: {response.status_code}\")\n",
        "        return\n",
        "\n",
        "    # Using BeautifulSoup to clean the HTML data to get the information we require\n",
        "    soup = BeautifulSoup(response.text, 'html.parser')\n",
        "\n",
        "    # Fetching the Title of the Article held within the header syntax: <h1>\n",
        "    title = soup.find('h1').get_text() if soup.find('h1') else \"No Title Found\"\n",
        "\n",
        "    # Fetching the body of the Article held within paragraph tags <p>\n",
        "    paragraphs = soup.find_all('p')\n",
        "    content = \"\\n\".join([para.get_text() for para in paragraphs])\n",
        "\n",
        "    # Saving the article to a text file\n",
        "    with open(\"scraped_article.txt\", 'w') as file:\n",
        "        file.write(f\"Title: {title}\\n\\n\")\n",
        "        file.write(f\"Content: \\n{content}\")\n",
        "\n",
        "    print(\"Article saved to 'scraped_article.txt'\")\n",
        "\n",
        "    # Simple Example: Download the saved file\n",
        "    files.download('scraped_article.txt')\n",
        "\n",
        "# Example usage\n",
        "url = input(\"Enter the URL of the article you want to scrape: \")\n",
        "scrape_article(url)\n"
      ],
      "metadata": {
        "colab": {
          "base_uri": "https://localhost:8080/",
          "height": 89
        },
        "id": "dEq9a_z_svUU",
        "outputId": "1249411b-3180-4213-dc45-6be9ffff085e"
      },
      "execution_count": 8,
      "outputs": [
        {
          "output_type": "stream",
          "name": "stdout",
          "text": [
            "Enter the URL of the article you want to scrape: https://www.thehindu.com/news/national/can-muslims-be-members-in-hindu-endowments-supreme-court-asks-centre-in-waqf-law-challenge/article69457169.ece\n",
            "The page was fetched successfully\n",
            "Article saved to 'scraped_article.txt'\n"
          ]
        },
        {
          "output_type": "display_data",
          "data": {
            "text/plain": [
              "<IPython.core.display.Javascript object>"
            ],
            "application/javascript": [
              "\n",
              "    async function download(id, filename, size) {\n",
              "      if (!google.colab.kernel.accessAllowed) {\n",
              "        return;\n",
              "      }\n",
              "      const div = document.createElement('div');\n",
              "      const label = document.createElement('label');\n",
              "      label.textContent = `Downloading \"${filename}\": `;\n",
              "      div.appendChild(label);\n",
              "      const progress = document.createElement('progress');\n",
              "      progress.max = size;\n",
              "      div.appendChild(progress);\n",
              "      document.body.appendChild(div);\n",
              "\n",
              "      const buffers = [];\n",
              "      let downloaded = 0;\n",
              "\n",
              "      const channel = await google.colab.kernel.comms.open(id);\n",
              "      // Send a message to notify the kernel that we're ready.\n",
              "      channel.send({})\n",
              "\n",
              "      for await (const message of channel.messages) {\n",
              "        // Send a message to notify the kernel that we're ready.\n",
              "        channel.send({})\n",
              "        if (message.buffers) {\n",
              "          for (const buffer of message.buffers) {\n",
              "            buffers.push(buffer);\n",
              "            downloaded += buffer.byteLength;\n",
              "            progress.value = downloaded;\n",
              "          }\n",
              "        }\n",
              "      }\n",
              "      const blob = new Blob(buffers, {type: 'application/binary'});\n",
              "      const a = document.createElement('a');\n",
              "      a.href = window.URL.createObjectURL(blob);\n",
              "      a.download = filename;\n",
              "      div.appendChild(a);\n",
              "      a.click();\n",
              "      div.remove();\n",
              "    }\n",
              "  "
            ]
          },
          "metadata": {}
        },
        {
          "output_type": "display_data",
          "data": {
            "text/plain": [
              "<IPython.core.display.Javascript object>"
            ],
            "application/javascript": [
              "download(\"download_38ecd108-228f-4cb1-85db-ac7210c899b6\", \"scraped_article.txt\", 8173)"
            ]
          },
          "metadata": {}
        }
      ]
    }
  ]
}